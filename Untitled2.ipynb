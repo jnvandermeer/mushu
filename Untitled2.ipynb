{
 "cells": [
  {
   "cell_type": "code",
   "execution_count": 3,
   "metadata": {},
   "outputs": [
    {
     "name": "stdout",
     "output_type": "stream",
     "text": [
      "Press <enter> to stop\n"
     ]
    }
   ],
   "source": [
    "import asyncio\n",
    "import threading\n",
    "\n",
    "# so you can use a spearate thread to wait/check for incoming event/thing, to then shut down the main event loop.\n",
    "# I guess this is poison-pill technique.\n",
    "def stop_loop():\n",
    "        input('Press <enter> to stop')\n",
    "        loop.call_soon_threadsafe(loop.stop)\n",
    "\n",
    "loop = asyncio.get_event_loop()\n",
    "threading.Thread(target=stop_loop).start()\n",
    "loop.run_forever()\n",
    "loop.close()  # optional"
   ]
  },
  {
   "cell_type": "code",
   "execution_count": 4,
   "metadata": {},
   "outputs": [
    {
     "name": "stdout",
     "output_type": "stream",
     "text": [
      " async.py           \u001b[0m\u001b[01;32mprepare_github_pages.sh\u001b[0m*        tcp.py\n",
      " \u001b[01;34mdoc\u001b[0m/               \u001b[01;34m__pycache__\u001b[0m/                    \u001b[01;34mtest\u001b[0m/\n",
      " \u001b[01;32mgenerate_doc.sh\u001b[0m*   README.md                       TODO\n",
      " \u001b[01;34mlibmushu\u001b[0m/          Remote_Control_Recorder.ipynb   \u001b[01;34mtools\u001b[0m/\n",
      " LICENSE            requirements.txt                Untitled1.ipynb\n",
      " \u001b[01;32mmushu.py\u001b[0m*          \u001b[01;32msetup.py\u001b[0m*                       Untitled2.ipynb\n",
      " my_server.py      'Short Amp Test.ipynb'           Untitled.ipynb\n",
      " \u001b[01;34mplay\u001b[0m/              StartingRecorder.ipynb          \u001b[01;34musb-dumps\u001b[0m/\n"
     ]
    }
   ],
   "source": [
    "ls"
   ]
  },
  {
   "cell_type": "code",
   "execution_count": null,
   "metadata": {},
   "outputs": [],
   "source": []
  },
  {
   "cell_type": "code",
   "execution_count": null,
   "metadata": {
    "collapsed": true
   },
   "outputs": [],
   "source": []
  }
 ],
 "metadata": {
  "kernelspec": {
   "display_name": "Python 3",
   "language": "python",
   "name": "python3"
  },
  "language_info": {
   "codemirror_mode": {
    "name": "ipython",
    "version": 3
   },
   "file_extension": ".py",
   "mimetype": "text/x-python",
   "name": "python",
   "nbconvert_exporter": "python",
   "pygments_lexer": "ipython3",
   "version": "3.6.2"
  }
 },
 "nbformat": 4,
 "nbformat_minor": 2
}
