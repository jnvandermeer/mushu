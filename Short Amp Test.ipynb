{
 "cells": [
  {
   "cell_type": "code",
   "execution_count": 1,
   "metadata": {},
   "outputs": [],
   "source": [
    "import libmushu\n",
    "amp = libmushu.get_amp('bpamp')"
   ]
  },
  {
   "cell_type": "code",
   "execution_count": 2,
   "metadata": {},
   "outputs": [
    {
     "name": "stdout",
     "output_type": "stream",
     "text": [
      "connecting to 10.100.0.3 port 6700\n",
      "sending b'1C:\\\\Vision\\\\Workfiles\\\\NF_64chEEG.rwksp'\n",
      "sending b'2Pre-Run01'\n",
      "sending b'30001'\n",
      "sending b'4'\n",
      "sending b'M'\n"
     ]
    }
   ],
   "source": [
    "amp.configure(remotecontrol=True,\n",
    "              recorderip='10.100.0.3',\n",
    "              recorderport=51244,\n",
    "              pathtoworkspace='C:\\\\Vision\\\\Workfiles\\\\NF_64chEEG.rwksp',\n",
    "              experimentnumber='Pre-Run01',\n",
    "              subjectid='0001')"
   ]
  },
  {
   "cell_type": "code",
   "execution_count": 3,
   "metadata": {},
   "outputs": [
    {
     "name": "stdout",
     "output_type": "stream",
     "text": [
      "Starting UDP server\n",
      "Starting TCP server\n",
      "starting...\n",
      "started the Recording!\n",
      "OK .. starting the DataCurator.\n",
      "Start\n",
      "Number of channels: 64\n",
      "Sampling interval: 200.0\n",
      "Resolutions: [0.5, 0.5, 0.5, 0.5, 0.5, 0.5, 0.5, 0.5, 0.5, 0.5, 0.5, 0.5, 0.5, 0.5, 0.5, 0.5, 0.5, 0.5, 0.5, 0.5, 0.5, 0.5, 0.5, 0.5, 0.5, 0.5, 0.5, 0.5, 0.5, 0.5, 0.5, 10.0, 0.5, 0.5, 0.5, 0.5, 0.5, 0.5, 0.5, 0.5, 0.5, 0.5, 0.5, 0.5, 0.5, 0.5, 0.5, 0.5, 0.5, 0.5, 0.5, 0.5, 0.5, 0.5, 0.5, 0.5, 0.5, 0.5, 0.5, 0.5, 0.5, 0.5, 0.5, 0.5]\n",
      "Channel Names: ['Fp1', 'Fp2', 'F3', 'F4', 'C3', 'C4', 'P3', 'P4', 'O1', 'O2', 'F7', 'F8', 'T7', 'T8', 'P7', 'P8', 'Fz', 'Cz', 'Pz', 'Oz', 'FC1', 'FC2', 'CP1', 'CP2', 'FC5', 'FC6', 'CP5', 'CP6', 'TP9', 'TP10', 'POz', 'ECG', 'F1', 'F2', 'C1', 'C2', 'P1', 'P2', 'AF3', 'AF4', 'FC3', 'FC4', 'CP3', 'CP4', 'PO3', 'PO4', 'F5', 'F6', 'C5', 'C6', 'P5', 'P6', 'AF7', 'AF8', 'FT7', 'FT8', 'TP7', 'TP8', 'PO7', 'PO8', 'FT9', 'FT10', 'Fpz', 'CPz']\n",
      "FLIPPING/GOING THE THE MIDDLE AGAIN\n",
      "loop stopped!\n",
      "receiver shutdown sent!\n",
      "Terminated by NF Control\n",
      "receiver successfully joined!\n",
      "stopping...\n"
     ]
    }
   ],
   "source": [
    "amp.start()"
   ]
  },
  {
   "cell_type": "code",
   "execution_count": 4,
   "metadata": {},
   "outputs": [
    {
     "name": "stdout",
     "output_type": "stream",
     "text": [
      "---\n",
      "---\n",
      "---\n",
      "---\n",
      "---\n",
      "---\n",
      "---\n",
      "---\n",
      "---\n",
      "---\n",
      "---\n",
      "---\n",
      "---\n",
      "---\n",
      "---\n",
      "---\n",
      "---\n",
      "---\n",
      "---\n",
      "---\n",
      "---\n",
      "---\n",
      "---\n",
      "---\n",
      "---\n",
      "---\n",
      "---\n",
      "---\n",
      "---\n",
      "---\n",
      "---\n",
      "---\n",
      "---\n",
      "---\n",
      "---\n",
      "---\n",
      "---\n",
      "---\n",
      "---\n",
      "---\n",
      "---\n",
      "---\n",
      "---\n",
      "---\n",
      "---\n",
      "---\n",
      "---\n",
      "---\n",
      "---\n",
      "---\n",
      "---\n",
      "---\n",
      "---\n",
      "---\n",
      "---\n",
      "---\n",
      "---\n",
      "---\n",
      "---\n",
      "---\n",
      "---\n",
      "---\n",
      "---\n",
      "---\n",
      "---\n",
      "---\n",
      "---\n",
      "---\n",
      "---\n",
      "---\n",
      "---\n",
      "---\n",
      "---\n",
      "---\n",
      "---\n",
      "---\n",
      "---\n",
      "---\n",
      "---\n",
      "---\n",
      "---\n",
      "---\n",
      "---\n",
      "---\n",
      "---\n",
      "---\n",
      "---\n",
      "---\n",
      "---\n",
      "---\n",
      "---\n",
      "---\n",
      "---\n",
      "---\n",
      "---\n",
      "---\n",
      "---\n",
      "---\n",
      "---\n",
      "---\n",
      "---\n",
      "---\n",
      "---\n",
      "---\n",
      "---\n",
      "---\n",
      "---\n",
      "---\n",
      "---\n",
      "---\n",
      "---\n",
      "---\n",
      "---\n",
      "---\n",
      "---\n",
      "---\n",
      "---\n",
      "---\n",
      "---\n",
      "---\n",
      "---\n",
      "---\n",
      "---\n",
      "---\n",
      "---\n",
      "---\n",
      "---\n",
      "---\n",
      "---\n",
      "---\n",
      "---\n",
      "---\n",
      "---\n",
      "---\n",
      "---\n",
      "---\n",
      "---\n",
      "---\n",
      "---\n",
      "---\n",
      "---\n",
      "---\n",
      "---\n",
      "---\n",
      "---\n",
      "---\n",
      "---\n",
      "---\n",
      "---\n",
      "---\n",
      "---\n",
      "---\n",
      "---\n",
      "---\n",
      "---\n",
      "---\n",
      "---\n",
      "---\n",
      "---\n",
      "---\n",
      "---\n",
      "---\n",
      "---\n",
      "---\n",
      "---\n",
      "---\n",
      "---\n",
      "---\n",
      "---\n",
      "---\n",
      "---\n",
      "---\n",
      "---\n",
      "---\n",
      "---\n",
      "---\n",
      "---\n",
      "---\n",
      "---\n",
      "---\n",
      "---\n",
      "---\n",
      "---\n",
      "---\n",
      "---\n",
      "---\n",
      "---\n",
      "---\n",
      "---\n",
      "---\n",
      "---\n",
      "---\n",
      "---\n",
      "---\n",
      "---\n",
      "---\n"
     ]
    }
   ],
   "source": [
    "alld=[]\n",
    "import time\n",
    "starttime=time.time()\n",
    "while time.time() - starttime < 100:\n",
    "    time.sleep(.5)\n",
    "    data, marker = amp.get_data()\n",
    "    alld.append(data)\n",
    "    print('---')\n",
    "    # print(data.shape)\n",
    "    # print(marker)"
   ]
  },
  {
   "cell_type": "code",
   "execution_count": 5,
   "metadata": {},
   "outputs": [
    {
     "name": "stdout",
     "output_type": "stream",
     "text": [
      "requesting to stop the acquisition\n",
      "amplifier stopped!\n"
     ]
    }
   ],
   "source": [
    "amp.stop()"
   ]
  },
  {
   "cell_type": "code",
   "execution_count": 6,
   "metadata": {},
   "outputs": [],
   "source": [
    "sizes=[]\n",
    "for d in alld:\n",
    "    sizes.append(d.shape)"
   ]
  },
  {
   "cell_type": "code",
   "execution_count": 7,
   "metadata": {
    "collapsed": true
   },
   "outputs": [],
   "source": [
    "import numpy as np"
   ]
  },
  {
   "cell_type": "code",
   "execution_count": 8,
   "metadata": {},
   "outputs": [],
   "source": [
    "m=np.concatenate(sizes)"
   ]
  },
  {
   "cell_type": "code",
   "execution_count": 9,
   "metadata": {},
   "outputs": [
    {
     "data": {
      "text/plain": [
       "[<matplotlib.lines.Line2D at 0x7f0e9b9a6438>]"
      ]
     },
     "execution_count": 9,
     "metadata": {},
     "output_type": "execute_result"
    },
    {
     "data": {
      "image/png": "[encoded data removed]",
      "text/plain": [
       "<matplotlib.figure.Figure at 0x7f0eac4520b8>"
      ]
     },
     "metadata": {},
     "output_type": "display_data"
    }
   ],
   "source": [
    "import matplotlib.pyplot as plt\n",
    "%matplotlib inline\n",
    "\n",
    "plt.plot(m[2::2])"
   ]
  },
  {
   "cell_type": "code",
   "execution_count": 25,
   "metadata": {},
   "outputs": [
    {
     "data": {
      "text/plain": [
       "array([[19400,    64,  2600,    64,  2600,    64,  2500,    64,  2400,\n",
       "           64,  2600,    64,  2500,    64,  2400,    64,  2500,    64,\n",
       "         2600,    64,  2400,    64,  2600,    64,  2600,    64,  2400,\n",
       "           64,  2500,    64,  2500,    64,  2500,    64,  2500,    64,\n",
       "         2500,    64,  2500,    64,  2400,    64,  2500,    64,  2600,\n",
       "           64,  2600,    64,  2400,    64,  2500,    64,  2600,    64,\n",
       "         2500,    64,  2500,    64,  2500,    64,  2500,    64,  2500,\n",
       "           64,  2500,    64,  2500,    64,  2600,    64,  2500,    64,\n",
       "         2500,    64,  2500,    64,  2600,    64,  2600,    64,  2400,\n",
       "           64,  2400,    64,  2600,    64,  2500,    64,  2500,    64,\n",
       "         2500,    64,  2600,    64,  2500,    64,  2500,    64,  2500,\n",
       "           64,  2500,    64,  2500,    64,  2500,    64,  2600,    64,\n",
       "         2400,    64,  2500,    64,  2500,    64,  2500,    64,  2600,\n",
       "           64,  2600,    64,  2500,    64,  2500,    64,  2500,    64,\n",
       "         2500,    64,  2500,    64,  2500,    64,  2600,    64,  2600,\n",
       "           64,  2400,    64,  2400,    64,  2700,    64,  2500,    64,\n",
       "         2500,    64,  2600,    64,  2400,    64,  2600,    64,  2500,\n",
       "           64,  2400,    64,  2700,    64,  2500,    64,  2500,    64,\n",
       "         2500,    64,  2500,    64,  2500,    64,  2500,    64,  2400,\n",
       "           64,  2500,    64,  2400,    64,  2500,    64,  2600,    64,\n",
       "         2400,    64,  2500,    64,  2600,    64,  2400,    64,  2300,\n",
       "           64,  2700,    64,  2500,    64,  2500,    64,  2600],\n",
       "       [   64,  2500,    64,  2500,    64,  2500,    64,  2600,    64,\n",
       "         2600,    64,  2400,    64,  2300,    64,  2600,    64,  2500,\n",
       "           64,  2400,    64,  2400,    64,  2600,    64,  2500,    64,\n",
       "         2400,    64,  2400,    64,  2600,    64,  2600,    64,  2600,\n",
       "           64,  2400,    64,  2500,    64,  2600,    64,  2600,    64,\n",
       "         2600,    64,  2500,    64,  2400,    64,  2400,    64,  2600,\n",
       "           64,  2500,    64,  2300,    64,  2400,    64,  2800,    64,\n",
       "         2500,    64,  2400,    64,  2400,    64,  2600,    64,  2500,\n",
       "           64,  2500,    64,  2400,    64,  2600,    64,  2600,    64,\n",
       "         2600,    64,  2400,    64,  2400,    64,  2600,    64,  2500,\n",
       "           64,  2400,    64,  2400,    64,  2700,    64,  2600,    64,\n",
       "         2400,    64,  2400,    64,  2500,    64,  2400,    64,  2500,\n",
       "           64,  2500,    64,  2600,    64,  2400,    64,  2400,    64,\n",
       "         2600,    64,  2500,    64,  2500,    64,  2400,    64,  2600,\n",
       "           64,  2400,    64,  2500,    64,  2500,    64,  2700,    64,\n",
       "         2500,    64,  2500,    64,  2500,    64,  2400,    64,  2600,\n",
       "           64,  2600,    64,  2400,    64,  2500,    64,  2500,    64,\n",
       "         2500,    64,  2500,    64,  2400,    64,  2500,    64,  2500,\n",
       "           64,  2600,    64,  2500,    64,  2500,    64,  2500,    64,\n",
       "         2600,    64,  2500,    64,  2400,    64,  2400,    64,  2600,\n",
       "           64,  2500,    64,  2500,    64,  2500,    64,  2600,    64,\n",
       "         2500,    64,  2600,    64,  2400,    64,  2500,    64]])"
      ]
     },
     "execution_count": 25,
     "metadata": {},
     "output_type": "execute_result"
    }
   ],
   "source": []
  },
  {
   "cell_type": "code",
   "execution_count": null,
   "metadata": {},
   "outputs": [],
   "source": []
  }
 ],
 "metadata": {
  "kernelspec": {
   "display_name": "Python 3",
   "language": "python",
   "name": "python3"
  },
  "language_info": {
   "codemirror_mode": {
    "name": "ipython",
    "version": 3
   },
   "file_extension": ".py",
   "mimetype": "text/x-python",
   "name": "python",
   "nbconvert_exporter": "python",
   "pygments_lexer": "ipython3",
   "version": "3.6.2"
  }
 },
 "nbformat": 4,
 "nbformat_minor": 2
}
