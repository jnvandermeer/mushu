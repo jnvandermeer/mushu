{
 "cells": [
  {
   "cell_type": "markdown",
   "metadata": {},
   "source": [
    "## This notebook will check the functionality of BP Mushu interface\n",
    "\n",
    "In the end, it will plot the # of samples within each call of amp.get_data()\n"
   ]
  },
  {
   "cell_type": "markdown",
   "metadata": {},
   "source": [
    "Import the library - get the new amp"
   ]
  },
  {
   "cell_type": "code",
   "execution_count": 67,
   "metadata": {},
   "outputs": [],
   "source": [
    "import libmushu\n",
    "amp = libmushu.get_amp('bpamp')"
   ]
  },
  {
   "cell_type": "markdown",
   "metadata": {},
   "source": [
    "Configure the amp"
   ]
  },
  {
   "cell_type": "code",
   "execution_count": 68,
   "metadata": {},
   "outputs": [
    {
     "name": "stdout",
     "output_type": "stream",
     "text": [
      "connecting to 10.100.0.3 port 6700\n",
      "sending b'1C:\\\\Vision\\\\Workfiles\\\\NF_64chEEG.rwksp'\n",
      "sending b'2Pre-Run01'\n",
      "sending b'30001'\n",
      "sending b'4'\n",
      "sending b'M'\n"
     ]
    }
   ],
   "source": [
    "amp.configure(remotecontrol=True,\n",
    "              recorderip='10.100.0.3',\n",
    "              recorderport=51244,\n",
    "              pathtoworkspace='C:\\\\Vision\\\\Workfiles\\\\NF_64chEEG.rwksp',\n",
    "              experimentnumber='Pre-Run01',\n",
    "              subjectid='0001',\n",
    "              n_channels=64,\n",
    "              fs=5000)"
   ]
  },
  {
   "cell_type": "markdown",
   "metadata": {},
   "source": [
    "start the amp - this will \n",
    "- 1) call Process DataCurator (the guardian of the Big Data Matrix (Container), which will allocate memory space and to all necessary upkeep) \n",
    "Proces will also call\n",
    "- 2) Recorder which will continue listening to the input port of BP and decode incoming messages"
   ]
  },
  {
   "cell_type": "code",
   "execution_count": 69,
   "metadata": {},
   "outputs": [
    {
     "name": "stdout",
     "output_type": "stream",
     "text": [
      "Starting UDP server\n",
      "Starting TCP server\n",
      "starting...\n",
      "started the Recording!\n",
      "OK .. starting the DataCurator.\n",
      "Start\n",
      "Number of channels: 64\n",
      "Sampling interval: 200.0\n",
      "Resolutions: [0.5, 0.5, 0.5, 0.5, 0.5, 0.5, 0.5, 0.5, 0.5, 0.5, 0.5, 0.5, 0.5, 0.5, 0.5, 0.5, 0.5, 0.5, 0.5, 0.5, 0.5, 0.5, 0.5, 0.5, 0.5, 0.5, 0.5, 0.5, 0.5, 0.5, 0.5, 10.0, 0.5, 0.5, 0.5, 0.5, 0.5, 0.5, 0.5, 0.5, 0.5, 0.5, 0.5, 0.5, 0.5, 0.5, 0.5, 0.5, 0.5, 0.5, 0.5, 0.5, 0.5, 0.5, 0.5, 0.5, 0.5, 0.5, 0.5, 0.5, 0.5, 0.5, 0.5, 0.5]\n",
      "Channel Names: ['Fp1', 'Fp2', 'F3', 'F4', 'C3', 'C4', 'P3', 'P4', 'O1', 'O2', 'F7', 'F8', 'T7', 'T8', 'P7', 'P8', 'Fz', 'Cz', 'Pz', 'Oz', 'FC1', 'FC2', 'CP1', 'CP2', 'FC5', 'FC6', 'CP5', 'CP6', 'TP9', 'TP10', 'POz', 'ECG', 'F1', 'F2', 'C1', 'C2', 'P1', 'P2', 'AF3', 'AF4', 'FC3', 'FC4', 'CP3', 'CP4', 'PO3', 'PO4', 'F5', 'F6', 'C5', 'C6', 'P5', 'P6', 'AF7', 'AF8', 'FT7', 'FT8', 'TP7', 'TP8', 'PO7', 'PO8', 'FT9', 'FT10', 'Fpz', 'CPz']\n",
      "Marker S 16 of type Stimulus\n",
      "Marker S 16 of type Stimulus\n",
      "Marker S 16 of type Stimulus\n",
      "Marker S  8 of type Stimulus\n",
      "Marker S  8 of type Stimulus\n",
      "Marker S  8 of type Stimulus\n",
      "Marker S128 of type Stimulus\n",
      "Marker S128 of type Stimulus\n",
      "Marker S128 of type Stimulus\n",
      "Marker S  2 of type Stimulus\n",
      "Marker S  2 of type Stimulus\n",
      "Marker S  2 of type Stimulus\n",
      "Marker S  1 of type Stimulus\n",
      "Marker S  1 of type Stimulus\n",
      "loop stopped!\n",
      "receiver shutdown sent!\n",
      "Terminated by NF Control\n",
      "receiver successfully joined!\n",
      "stopping...\n"
     ]
    }
   ],
   "source": [
    "amp.start('testsave2')"
   ]
  },
  {
   "cell_type": "code",
   "execution_count": 70,
   "metadata": {},
   "outputs": [
    {
     "name": "stdout",
     "output_type": "stream",
     "text": [
      "---\n",
      "---\n",
      "---\n",
      "---\n",
      "---\n",
      "---\n",
      "---\n",
      "---\n",
      "---\n",
      "---\n",
      "---\n",
      "---\n",
      "---\n",
      "---\n",
      "---\n",
      "---\n",
      "---\n",
      "---\n",
      "---\n",
      "---\n",
      "---\n",
      "---\n",
      "---\n",
      "---\n",
      "---\n",
      "---\n",
      "---\n",
      "---\n",
      "---\n",
      "---\n",
      "---\n",
      "---\n",
      "---\n",
      "---\n",
      "---\n",
      "---\n",
      "---\n",
      "---\n"
     ]
    }
   ],
   "source": [
    "alld=[]\n",
    "allm=[]\n",
    "import time\n",
    "starttime=time.time()\n",
    "while time.time() - starttime < 20:\n",
    "    time.sleep(.502)\n",
    "    data, marker = amp.get_data()\n",
    "    alld.append(data)\n",
    "    for m in marker:\n",
    "        allm.append(marker)\n",
    "    \n",
    "    print('---')\n",
    "    # print(data.shape)\n",
    "    # print(marker)"
   ]
  },
  {
   "cell_type": "markdown",
   "metadata": {},
   "source": [
    "Stop the Amplifier (but retain possibility to query for incoming data)"
   ]
  },
  {
   "cell_type": "code",
   "execution_count": 71,
   "metadata": {},
   "outputs": [
    {
     "name": "stdout",
     "output_type": "stream",
     "text": [
      "requesting to stop the acquisition\n",
      "amplifier stopped!\n"
     ]
    }
   ],
   "source": [
    "amp.stop()"
   ]
  },
  {
   "cell_type": "markdown",
   "metadata": {},
   "source": [
    "## check data packets sizes"
   ]
  },
  {
   "cell_type": "code",
   "execution_count": 72,
   "metadata": {},
   "outputs": [],
   "source": [
    "sizes=[]\n",
    "for d in alld:\n",
    "    sizes.append(d.shape)"
   ]
  },
  {
   "cell_type": "code",
   "execution_count": 73,
   "metadata": {
    "collapsed": true
   },
   "outputs": [],
   "source": [
    "import numpy as np"
   ]
  },
  {
   "cell_type": "code",
   "execution_count": 74,
   "metadata": {},
   "outputs": [],
   "source": [
    "m=np.concatenate(sizes)"
   ]
  },
  {
   "cell_type": "code",
   "execution_count": 75,
   "metadata": {},
   "outputs": [
    {
     "data": {
      "text/plain": [
       "(0, 1)"
      ]
     },
     "execution_count": 75,
     "metadata": {},
     "output_type": "execute_result"
    },
    {
     "data": {
      "image/png": "[encoded data removed]",
      "text/plain": [
       "<matplotlib.figure.Figure at 0x7f7e7033d8d0>"
      ]
     },
     "metadata": {},
     "output_type": "display_data"
    }
   ],
   "source": [
    "import matplotlib.pyplot as plt\n",
    "%matplotlib inline\n",
    "\n",
    "plt.plot(m[2::2]/5000)\n",
    "plt.ylim((0, 1))"
   ]
  },
  {
   "cell_type": "markdown",
   "metadata": {},
   "source": [
    "## check markers"
   ]
  },
  {
   "cell_type": "code",
   "execution_count": 76,
   "metadata": {},
   "outputs": [
    {
     "data": {
      "text/plain": [
       "[[(0.2812, 'S 16')],\n",
       " [(0.1852, 'S 16')],\n",
       " [(0.3752, 'S 16')],\n",
       " [(0.4032, 'S  8')],\n",
       " [(0.1114, 'S  8')],\n",
       " [(0.2294, 'S  8')],\n",
       " [(0.3214, 'S128')],\n",
       " [(0.1574, 'S128')],\n",
       " [(0.0674, 'S128')],\n",
       " [(0.2134, 'S  2')],\n",
       " [(0.0914, 'S  2')],\n",
       " [(0.1574, 'S  2')]]"
      ]
     },
     "execution_count": 76,
     "metadata": {},
     "output_type": "execute_result"
    }
   ],
   "source": [
    "allm"
   ]
  },
  {
   "cell_type": "markdown",
   "metadata": {},
   "source": [
    "## Check the saved file"
   ]
  },
  {
   "cell_type": "code",
   "execution_count": 90,
   "metadata": {},
   "outputs": [],
   "source": [
    "import struct\n",
    "import json\n",
    "fhe=open('testsave2.eeg')\n",
    "fhm=open('testsave2.marker')\n",
    "fhj=open('testsave2.meta')"
   ]
  },
  {
   "cell_type": "markdown",
   "metadata": {},
   "source": [
    "### json = header"
   ]
  },
  {
   "cell_type": "code",
   "execution_count": 91,
   "metadata": {},
   "outputs": [
    {
     "name": "stdout",
     "output_type": "stream",
     "text": [
      "{'Channels': ['Ch-1', 'Ch-2', 'Ch-3', 'Ch-4', 'Ch-5', 'Ch-6', 'Ch-7', 'Ch-8', 'Ch-9', 'Ch-10', 'Ch-11', 'Ch-12', 'Ch-13', 'Ch-14', 'Ch-15', 'Ch-16', 'Ch-17', 'Ch-18', 'Ch-19', 'Ch-20', 'Ch-21', 'Ch-22', 'Ch-23', 'Ch-24', 'Ch-25', 'Ch-26', 'Ch-27', 'Ch-28', 'Ch-29', 'Ch-30', 'Ch-31', 'Ch-32', 'Ch-33', 'Ch-34', 'Ch-35', 'Ch-36', 'Ch-37', 'Ch-38', 'Ch-39', 'Ch-40', 'Ch-41', 'Ch-42', 'Ch-43', 'Ch-44', 'Ch-45', 'Ch-46', 'Ch-47', 'Ch-48', 'Ch-49', 'Ch-50', 'Ch-51', 'Ch-52', 'Ch-53', 'Ch-54', 'Ch-55', 'Ch-56', 'Ch-57', 'Ch-58', 'Ch-59', 'Ch-60', 'Ch-61', 'Ch-62', 'Ch-63', 'Ch-64'], 'Sampling Frequency': 5000, 'Amp': '<libmushu.driver.brainproducts.BPAmp object at 0x7f7e70649400>'}\n"
     ]
    }
   ],
   "source": [
    "meta=json.load(fhj)\n",
    "print(meta)"
   ]
  },
  {
   "cell_type": "code",
   "execution_count": 112,
   "metadata": {},
   "outputs": [
    {
     "data": {
      "text/plain": [
       "['Ch-1',\n",
       " 'Ch-2',\n",
       " 'Ch-3',\n",
       " 'Ch-4',\n",
       " 'Ch-5',\n",
       " 'Ch-6',\n",
       " 'Ch-7',\n",
       " 'Ch-8',\n",
       " 'Ch-9',\n",
       " 'Ch-10',\n",
       " 'Ch-11',\n",
       " 'Ch-12',\n",
       " 'Ch-13',\n",
       " 'Ch-14',\n",
       " 'Ch-15',\n",
       " 'Ch-16',\n",
       " 'Ch-17',\n",
       " 'Ch-18',\n",
       " 'Ch-19',\n",
       " 'Ch-20',\n",
       " 'Ch-21',\n",
       " 'Ch-22',\n",
       " 'Ch-23',\n",
       " 'Ch-24',\n",
       " 'Ch-25',\n",
       " 'Ch-26',\n",
       " 'Ch-27',\n",
       " 'Ch-28',\n",
       " 'Ch-29',\n",
       " 'Ch-30',\n",
       " 'Ch-31',\n",
       " 'Ch-32',\n",
       " 'Ch-33',\n",
       " 'Ch-34',\n",
       " 'Ch-35',\n",
       " 'Ch-36',\n",
       " 'Ch-37',\n",
       " 'Ch-38',\n",
       " 'Ch-39',\n",
       " 'Ch-40',\n",
       " 'Ch-41',\n",
       " 'Ch-42',\n",
       " 'Ch-43',\n",
       " 'Ch-44',\n",
       " 'Ch-45',\n",
       " 'Ch-46',\n",
       " 'Ch-47',\n",
       " 'Ch-48',\n",
       " 'Ch-49',\n",
       " 'Ch-50',\n",
       " 'Ch-51',\n",
       " 'Ch-52',\n",
       " 'Ch-53',\n",
       " 'Ch-54',\n",
       " 'Ch-55',\n",
       " 'Ch-56',\n",
       " 'Ch-57',\n",
       " 'Ch-58',\n",
       " 'Ch-59',\n",
       " 'Ch-60',\n",
       " 'Ch-61',\n",
       " 'Ch-62',\n",
       " 'Ch-63',\n",
       " 'Ch-64']"
      ]
     },
     "execution_count": 112,
     "metadata": {},
     "output_type": "execute_result"
    }
   ],
   "source": [
    "meta['Channels']"
   ]
  },
  {
   "cell_type": "markdown",
   "metadata": {},
   "source": [
    "### binary = raw data"
   ]
  },
  {
   "cell_type": "code",
   "execution_count": 262,
   "metadata": {},
   "outputs": [],
   "source": [
    "import numpy as np\n",
    "\n",
    "f = open(\"testsave2.eeg\", \"r\")\n",
    "m = np.fromfile(f, dtype=np.uint32)"
   ]
  },
  {
   "cell_type": "code",
   "execution_count": 263,
   "metadata": {},
   "outputs": [
    {
     "data": {
      "text/plain": [
       "141400.0"
      ]
     },
     "execution_count": 263,
     "metadata": {},
     "output_type": "execute_result"
    }
   ],
   "source": [
    "len(m)/64"
   ]
  },
  {
   "cell_type": "code",
   "execution_count": 264,
   "metadata": {},
   "outputs": [],
   "source": [
    "m=a.reshape(64,round(len(m)/64))"
   ]
  },
  {
   "cell_type": "code",
   "execution_count": 265,
   "metadata": {},
   "outputs": [],
   "source": [
    "import mne"
   ]
  },
  {
   "cell_type": "code",
   "execution_count": 266,
   "metadata": {},
   "outputs": [
    {
     "name": "stdout",
     "output_type": "stream",
     "text": [
      "Creating RawArray with float64 data, n_channels=64, n_times=141400\n",
      "    Range : 0 ... 141399 =      0.000 ...    28.280 secs\n",
      "Ready.\n",
      "<RawArray  |  None, n_channels x n_times : 64 x 141400 (28.3 sec), ~69.2 MB, data loaded>\n"
     ]
    }
   ],
   "source": [
    "# Generate some random data\n",
    "\n",
    "# Initialize an info structure\n",
    "info = mne.create_info(\n",
    "    ch_names=meta['Channels'],\n",
    "    ch_types = ['eeg' for i in range(64)],\n",
    "    sfreq=meta['Sampling Frequency']\n",
    ")\n",
    "\n",
    "custom_raw = mne.io.RawArray(m, info)\n",
    "print(custom_raw)"
   ]
  },
  {
   "cell_type": "markdown",
   "metadata": {},
   "source": [
    "### markers"
   ]
  },
  {
   "cell_type": "code",
   "execution_count": 267,
   "metadata": {},
   "outputs": [
    {
     "name": "stdout",
     "output_type": "stream",
     "text": [
      "['11520.281200 S 16', '12560.185200 S 16', '14140.375200 S 16', '16220.403200 S  8', '16780.111400 S  8', '17800.229400 S  8', '20400.321400 S128', '21460.157400 S128', '22520.067400 S128', '24600.213400 S  2', '25680.091400 S  2', '27240.157400 S  2']\n",
      "['11520.281200', '16']\n",
      "['12560.185200', '16']\n",
      "['14140.375200', '16']\n",
      "['16220.403200', '8']\n",
      "['16780.111400', '8']\n",
      "['17800.229400', '8']\n",
      "['20400.321400', '128']\n",
      "['21460.157400', '128']\n",
      "['22520.067400', '128']\n",
      "['24600.213400', '2']\n",
      "['25680.091400', '2']\n",
      "['27240.157400', '2']\n",
      "Creating RawArray with float64 data, n_channels=1, n_times=141400\n",
      "    Range : 0 ... 141399 =      0.000 ...    28.280 secs\n",
      "Ready.\n"
     ]
    }
   ],
   "source": [
    "with open('testsave2.marker') as file:\n",
    "    content = file.readlines()\n",
    "# you may also want to remove whitespace characters like `\\n` at the end of each line\n",
    "content = [x.strip() for x in content] \n",
    "print(content)\n",
    "\n",
    "import re\n",
    "\n",
    "# create the marker matrix\n",
    "ev_arr=[]\n",
    "for i, item in enumerate(content):\n",
    "    out=re.split(\"[\\s|S|T]+\", item)\n",
    "    sample = int(float(out[0])/1000*meta['Sampling Frequency'])\n",
    "    code = int(out[1])\n",
    "    \n",
    "    print(out)\n",
    "    ev_arr.append([sample, 0, code])\n",
    "    \n",
    "\n",
    "\n",
    "# create marker channel for MNE python:\n",
    "info = mne.create_info(['STI'], custom_raw.info['sfreq'], ['stim'])\n",
    "stim_data = np.zeros((1, len(custom_raw.times)))\n",
    "stim_raw = mne.io.RawArray(stim_data, info)\n",
    "custom_raw.add_channels([stim_raw], force_update_info=True)\n",
    "\n",
    "# create the marker matrix:\n",
    "custom_raw.add_events(ev_arr)\n",
    "\n"
   ]
  },
  {
   "cell_type": "code",
   "execution_count": 268,
   "metadata": {},
   "outputs": [
    {
     "data": {
      "text/plain": [
       "[[57601, 0, 16],\n",
       " [62800, 0, 16],\n",
       " [70701, 0, 16],\n",
       " [81102, 0, 8],\n",
       " [83900, 0, 8],\n",
       " [89001, 0, 8],\n",
       " [102001, 0, 128],\n",
       " [107300, 0, 128],\n",
       " [112600, 0, 128],\n",
       " [123001, 0, 2],\n",
       " [128400, 0, 2],\n",
       " [136200, 0, 2]]"
      ]
     },
     "execution_count": 268,
     "metadata": {},
     "output_type": "execute_result"
    }
   ],
   "source": [
    "ev_arr"
   ]
  },
  {
   "cell_type": "code",
   "execution_count": 269,
   "metadata": {},
   "outputs": [
    {
     "data": {
      "image/png": "[encoded data removed]",
      "text/plain": [
       "<matplotlib.figure.Figure at 0x7f7e70494e10>"
      ]
     },
     "metadata": {},
     "output_type": "display_data"
    },
    {
     "data": {
      "image/png": "[encoded data removed]",
      "text/plain": [
       "<matplotlib.figure.Figure at 0x7f7e70494e10>"
      ]
     },
     "execution_count": 269,
     "metadata": {},
     "output_type": "execute_result"
    }
   ],
   "source": [
    "custom_raw.plot()"
   ]
  },
  {
   "cell_type": "code",
   "execution_count": 273,
   "metadata": {},
   "outputs": [
    {
     "name": "stdout",
     "output_type": "stream",
     "text": [
      "Writing /home/nfcontrol/repos/rt-cwl-eeg-fmri/mushu/test2raw.fif\n",
      "Closing /home/nfcontrol/repos/rt-cwl-eeg-fmri/mushu/test2raw.fif [done]\n"
     ]
    }
   ],
   "source": [
    "custom_raw.save('test2raw.fif')"
   ]
  },
  {
   "cell_type": "code",
   "execution_count": null,
   "metadata": {},
   "outputs": [],
   "source": []
  }
 ],
 "metadata": {
  "kernelspec": {
   "display_name": "Python 3",
   "language": "python",
   "name": "python3"
  },
  "language_info": {
   "codemirror_mode": {
    "name": "ipython",
    "version": 3
   },
   "file_extension": ".py",
   "mimetype": "text/x-python",
   "name": "python",
   "nbconvert_exporter": "python",
   "pygments_lexer": "ipython3",
   "version": "3.6.2"
  }
 },
 "nbformat": 4,
 "nbformat_minor": 2
}
